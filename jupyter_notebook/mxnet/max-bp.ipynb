{
 "cells": [
  {
   "cell_type": "code",
   "execution_count": 1,
   "metadata": {
    "collapsed": true
   },
   "outputs": [],
   "source": [
    "import logging\n",
    "import math\n",
    "import random\n",
    "import mxnet as mx\n",
    "import numpy as np"
   ]
  },
  {
   "cell_type": "code",
   "execution_count": 2,
   "metadata": {
    "collapsed": true
   },
   "outputs": [],
   "source": [
    "logging.getLogger().setLevel(logging.DEBUG)"
   ]
  },
  {
   "cell_type": "code",
   "execution_count": 3,
   "metadata": {
    "collapsed": true
   },
   "outputs": [],
   "source": [
    "n_sample = 10000\n",
    "batch_size = 10\n",
    "learning_rate = 0.1\n",
    "n_epoch = 10"
   ]
  },
  {
   "cell_type": "code",
   "execution_count": 4,
   "metadata": {
    "collapsed": true
   },
   "outputs": [],
   "source": [
    "train_in = [[random.uniform(0, 1) for c in range(2)] for n in range(n_sample)]"
   ]
  },
  {
   "cell_type": "code",
   "execution_count": 5,
   "metadata": {
    "collapsed": true
   },
   "outputs": [],
   "source": [
    "train_out = [0 for n in range(n_sample)]"
   ]
  },
  {
   "cell_type": "code",
   "execution_count": 6,
   "metadata": {
    "collapsed": true
   },
   "outputs": [],
   "source": [
    "for i in range(n_sample):\n",
    "    train_out[i] = max(train_in[i][0], train_in[i][1])"
   ]
  },
  {
   "cell_type": "code",
   "execution_count": 7,
   "metadata": {
    "collapsed": true
   },
   "outputs": [],
   "source": [
    "train_iter = mx.io.NDArrayIter(data=np.array(train_in), label={'reg_label':np.array(train_out)},\n",
    "    batch_size=batch_size, shuffle=True)"
   ]
  },
  {
   "cell_type": "code",
   "execution_count": 8,
   "metadata": {
    "collapsed": true
   },
   "outputs": [],
   "source": [
    "src = mx.sym.Variable('data')"
   ]
  },
  {
   "cell_type": "code",
   "execution_count": 9,
   "metadata": {
    "collapsed": true
   },
   "outputs": [],
   "source": [
    "fc1 = mx.sym.FullyConnected(data=src, num_hidden=10, name='fc1')\n",
    "act1 = mx.sym.Activation(data=fc1, act_type=\"relu\", name='act1')\n",
    "fc2 = mx.sym.FullyConnected(data=act1, num_hidden=10, name='fc2')\n",
    "act2 = mx.sym.Activation(data=fc2, act_type=\"relu\", name='act2')\n",
    "fc3 = mx.sym.FullyConnected(data=act2, num_hidden=1, name='fc3')"
   ]
  },
  {
   "cell_type": "code",
   "execution_count": 10,
   "metadata": {
    "collapsed": true
   },
   "outputs": [],
   "source": [
    "net = mx.sym.LinearRegressionOutput(data=fc3, name='reg')"
   ]
  },
  {
   "cell_type": "code",
   "execution_count": 11,
   "metadata": {
    "collapsed": true
   },
   "outputs": [],
   "source": [
    "module = mx.mod.Module(symbol=net, label_names=(['reg_label']))"
   ]
  },
  {
   "cell_type": "code",
   "execution_count": 12,
   "metadata": {},
   "outputs": [
    {
     "name": "stderr",
     "output_type": "stream",
     "text": [
      "INFO:root:Epoch[0] Train-mse=0.007592\n",
      "INFO:root:Epoch[0] Time cost=0.508\n",
      "INFO:root:Epoch[1] Train-mse=0.000103\n",
      "INFO:root:Epoch[1] Time cost=0.531\n",
      "INFO:root:Epoch[2] Train-mse=0.000034\n",
      "INFO:root:Epoch[2] Time cost=0.527\n",
      "INFO:root:Epoch[3] Train-mse=0.000024\n",
      "INFO:root:Epoch[3] Time cost=0.521\n",
      "INFO:root:Epoch[4] Train-mse=0.000018\n",
      "INFO:root:Epoch[4] Time cost=0.514\n",
      "INFO:root:Epoch[5] Train-mse=0.000014\n",
      "INFO:root:Epoch[5] Time cost=0.518\n",
      "INFO:root:Epoch[6] Train-mse=0.000011\n",
      "INFO:root:Epoch[6] Time cost=0.522\n",
      "INFO:root:Epoch[7] Train-mse=0.000009\n",
      "INFO:root:Epoch[7] Time cost=0.511\n",
      "INFO:root:Epoch[8] Train-mse=0.000007\n",
      "INFO:root:Epoch[8] Time cost=0.524\n",
      "INFO:root:Epoch[9] Train-mse=0.000006\n",
      "INFO:root:Epoch[9] Time cost=0.520\n"
     ]
    }
   ],
   "source": [
    "module.fit(train_iter,\n",
    "          eval_data=None,\n",
    "          eval_metric=mx.metric.create('mse'),\n",
    "          initializer = mx.initializer.Uniform(0.5),\n",
    "          optimizer='sgd',\n",
    "          optimizer_params={'learning_rate':learning_rate},\n",
    "          num_epoch=n_epoch,\n",
    "          batch_end_callback = None,\n",
    "          epoch_end_callback = None)"
   ]
  },
  {
   "cell_type": "code",
   "execution_count": null,
   "metadata": {
    "collapsed": true
   },
   "outputs": [],
   "source": []
  }
 ],
 "metadata": {
  "kernelspec": {
   "display_name": "Python 3",
   "language": "python",
   "name": "python3"
  },
  "language_info": {
   "codemirror_mode": {
    "name": "ipython",
    "version": 3
   },
   "file_extension": ".py",
   "mimetype": "text/x-python",
   "name": "python",
   "nbconvert_exporter": "python",
   "pygments_lexer": "ipython3",
   "version": "3.6.4"
  }
 },
 "nbformat": 4,
 "nbformat_minor": 2
}
