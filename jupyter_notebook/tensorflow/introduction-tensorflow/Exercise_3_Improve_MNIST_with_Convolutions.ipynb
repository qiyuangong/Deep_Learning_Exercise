{
  "nbformat": 4,
  "nbformat_minor": 0,
  "metadata": {
    "colab": {
      "name": "Exercise 3 - Question.ipynb",
      "version": "0.3.2",
      "provenance": [],
      "collapsed_sections": []
    },
    "kernelspec": {
      "name": "python3",
      "display_name": "Python 3"
    },
    "accelerator": "GPU"
  },
  "cells": [
    {
      "cell_type": "markdown",
      "metadata": {
        "id": "iQjHqsmTAVLU",
        "colab_type": "text"
      },
      "source": [
        "## Exercise 3\n",
        "In the videos you looked at how you would improve Fashion MNIST using Convolutions. For your exercise see if you can improve MNIST to 99.8% accuracy or more using only a single convolutional layer and a single MaxPooling 2D. You should stop training once the accuracy goes above this amount. It should happen in less than 20 epochs, so it's ok to hard code the number of epochs for training, but your training must end once it hits the above metric. If it doesn't, then you'll need to redesign your layers.\n",
        "\n",
        "I've started the code for you -- you need to finish it!\n",
        "\n",
        "When 99.8% accuracy has been hit, you should print out the string \"Reached 99.8% accuracy so cancelling training!\"\n"
      ]
    },
    {
      "cell_type": "code",
      "metadata": {
        "id": "sfQRyaJWAIdg",
        "colab_type": "code",
        "colab": {
          "base_uri": "https://localhost:8080/",
          "height": 408
        },
        "outputId": "e0eabf20-2f95-4779-bd3f-ec550571cf07"
      },
      "source": [
        "import tensorflow as tf\n",
        "\n",
        "class myCallback(tf.keras.callbacks.Callback):\n",
        "  def on_epoch_end(self, epoch, logs={}):\n",
        "    if(logs.get('acc') > 0.998):\n",
        "      print(\"\\nReached 99.8% accuracy so cancelling training!\")\n",
        "      self.model.stop_training = True\n",
        "\n",
        "callbacks = myCallback()\n",
        "\n",
        "import tensorflow as tf\n",
        "print(tf.__version__)\n",
        "mnist = tf.keras.datasets.mnist\n",
        "(training_images, training_labels), (test_images, test_labels) = mnist.load_data()\n",
        "training_images=training_images.reshape(60000, 28, 28, 1)\n",
        "training_images=training_images / 255.0\n",
        "test_images = test_images.reshape(10000, 28, 28, 1)\n",
        "test_images=test_images/255.0\n",
        "model = tf.keras.models.Sequential([\n",
        "  tf.keras.layers.Conv2D(32, (3,3), activation='relu', input_shape=(28, 28, 1)),\n",
        "  tf.keras.layers.MaxPooling2D(2, 2),\n",
        "  tf.keras.layers.Flatten(),\n",
        "  tf.keras.layers.Dense(128, activation='relu'),\n",
        "  tf.keras.layers.Dense(10, activation='softmax')\n",
        "])\n",
        "model.compile(optimizer='adam', loss='sparse_categorical_crossentropy', metrics=['accuracy'])\n",
        "model.fit(training_images, training_labels, epochs=20, callbacks=[callbacks])\n",
        "test_loss, test_acc = model.evaluate(test_images, test_labels)\n",
        "print(test_acc)\n",
        "\n"
      ],
      "execution_count": 2,
      "outputs": [
        {
          "output_type": "stream",
          "text": [
            "1.14.0\n",
            "Epoch 1/20\n",
            "60000/60000 [==============================] - 6s 94us/sample - loss: 0.1498 - acc: 0.9549\n",
            "Epoch 2/20\n",
            "60000/60000 [==============================] - 5s 87us/sample - loss: 0.0515 - acc: 0.9845\n",
            "Epoch 3/20\n",
            "60000/60000 [==============================] - 5s 85us/sample - loss: 0.0330 - acc: 0.9894\n",
            "Epoch 4/20\n",
            "60000/60000 [==============================] - 5s 85us/sample - loss: 0.0222 - acc: 0.9926\n",
            "Epoch 5/20\n",
            "60000/60000 [==============================] - 5s 85us/sample - loss: 0.0161 - acc: 0.9950\n",
            "Epoch 6/20\n",
            "60000/60000 [==============================] - 5s 84us/sample - loss: 0.0114 - acc: 0.9962\n",
            "Epoch 7/20\n",
            "60000/60000 [==============================] - 5s 85us/sample - loss: 0.0092 - acc: 0.9968\n",
            "Epoch 8/20\n",
            "60000/60000 [==============================] - 5s 86us/sample - loss: 0.0069 - acc: 0.9977\n",
            "Epoch 9/20\n",
            "59488/60000 [============================>.] - ETA: 0s - loss: 0.0057 - acc: 0.9982\n",
            "Reached 99.8% accuracy so cancelling training!\n",
            "60000/60000 [==============================] - 5s 84us/sample - loss: 0.0057 - acc: 0.9981\n",
            "10000/10000 [==============================] - 1s 51us/sample - loss: 0.0656 - acc: 0.9831\n",
            "0.9831\n"
          ],
          "name": "stdout"
        }
      ]
    }
  ]
}