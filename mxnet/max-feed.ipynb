{
 "cells": [
  {
   "cell_type": "code",
   "execution_count": 1,
   "metadata": {
    "collapsed": true
   },
   "outputs": [],
   "source": [
    "import logging\n",
    "import math\n",
    "import random\n",
    "import mxnet as mx\n",
    "import numpy as np"
   ]
  },
  {
   "cell_type": "code",
   "execution_count": 2,
   "metadata": {
    "collapsed": true
   },
   "outputs": [],
   "source": [
    "logging.getLogger().setLevel(logging.DEBUG)"
   ]
  },
  {
   "cell_type": "code",
   "execution_count": 3,
   "metadata": {
    "collapsed": true
   },
   "outputs": [],
   "source": [
    "n_sample = 1000\n",
    "batch_size = 1\n",
    "learning_rate = 0.1\n",
    "n_epoch = 1"
   ]
  },
  {
   "cell_type": "code",
   "execution_count": 4,
   "metadata": {
    "collapsed": true
   },
   "outputs": [],
   "source": [
    "train_in = [[random.uniform(0, 1) for c in range(2)] for n in range(n_sample)]"
   ]
  },
  {
   "cell_type": "code",
   "execution_count": 5,
   "metadata": {
    "collapsed": true
   },
   "outputs": [],
   "source": [
    "train_out = [0 for n in range(n_sample)]"
   ]
  },
  {
   "cell_type": "code",
   "execution_count": 6,
   "metadata": {
    "collapsed": true
   },
   "outputs": [],
   "source": [
    "for i in range(n_sample):\n",
    "    train_out[i] = max(train_in[i][0], train_in[i][1])"
   ]
  },
  {
   "cell_type": "code",
   "execution_count": 7,
   "metadata": {
    "collapsed": true
   },
   "outputs": [],
   "source": [
    "train_iter = mx.io.NDArrayIter(data=np.array(train_in), label={'reg_label':np.array(train_out)},\n",
    "    batch_size=batch_size, shuffle=True)"
   ]
  },
  {
   "cell_type": "code",
   "execution_count": 8,
   "metadata": {
    "collapsed": true
   },
   "outputs": [],
   "source": [
    "src = mx.sym.Variable('data')"
   ]
  },
  {
   "cell_type": "code",
   "execution_count": 9,
   "metadata": {
    "collapsed": true
   },
   "outputs": [],
   "source": [
    "fc = mx.sym.FullyConnected(data=src, num_hidden=1, name='fc')"
   ]
  },
  {
   "cell_type": "code",
   "execution_count": 10,
   "metadata": {
    "collapsed": true
   },
   "outputs": [],
   "source": [
    "net = mx.sym.LinearRegressionOutput(data=fc, name='reg')"
   ]
  },
  {
   "cell_type": "code",
   "execution_count": 11,
   "metadata": {
    "collapsed": true
   },
   "outputs": [],
   "source": [
    "module = mx.mod.Module(symbol=net, label_names=(['reg_label']))"
   ]
  },
  {
   "cell_type": "code",
   "execution_count": 12,
   "metadata": {
    "collapsed": true
   },
   "outputs": [],
   "source": [
    "def epoch_callback(epoch, symbol, arg_params, aux_params):\n",
    "    for k in arg_params:\n",
    "        print(k)\n",
    "        print(arg_params[k].asnumpy())"
   ]
  },
  {
   "cell_type": "code",
   "execution_count": 13,
   "metadata": {},
   "outputs": [
    {
     "name": "stderr",
     "output_type": "stream",
     "text": [
      "INFO:root:Epoch[0] Batch [100]\tSpeed: 2546.93 samples/sec\tmse=0.044537\n",
      "INFO:root:Epoch[0] Batch [200]\tSpeed: 2838.00 samples/sec\tmse=0.017226\n",
      "INFO:root:Epoch[0] Batch [300]\tSpeed: 2569.57 samples/sec\tmse=0.016267\n",
      "INFO:root:Epoch[0] Batch [400]\tSpeed: 2811.12 samples/sec\tmse=0.014251\n",
      "INFO:root:Epoch[0] Batch [500]\tSpeed: 2782.72 samples/sec\tmse=0.014609\n",
      "INFO:root:Epoch[0] Batch [600]\tSpeed: 2504.38 samples/sec\tmse=0.013522\n",
      "INFO:root:Epoch[0] Batch [700]\tSpeed: 2349.41 samples/sec\tmse=0.015268\n",
      "INFO:root:Epoch[0] Batch [800]\tSpeed: 2804.95 samples/sec\tmse=0.011233\n",
      "INFO:root:Epoch[0] Batch [900]\tSpeed: 2799.15 samples/sec\tmse=0.013335\n",
      "INFO:root:Epoch[0] Train-mse=0.017217\n",
      "INFO:root:Epoch[0] Time cost=0.384\n"
     ]
    },
    {
     "name": "stdout",
     "output_type": "stream",
     "text": [
      "fc_weight\n",
      "[[ 0.4123733   0.56470048]]\n",
      "fc_bias\n",
      "[ 0.18785182]\n"
     ]
    }
   ],
   "source": [
    "module.fit(train_iter,\n",
    "          eval_data=None,\n",
    "          eval_metric=mx.metric.create('mse'),\n",
    "          optimizer='sgd',\n",
    "          optimizer_params={'learning_rate':learning_rate},\n",
    "          num_epoch=n_epoch,\n",
    "          batch_end_callback = mx.callback.Speedometer(batch_size, 100),\n",
    "          epoch_end_callback = epoch_callback)"
   ]
  },
  {
   "cell_type": "code",
   "execution_count": null,
   "metadata": {
    "collapsed": true
   },
   "outputs": [],
   "source": []
  }
 ],
 "metadata": {
  "kernelspec": {
   "display_name": "Python 3",
   "language": "python",
   "name": "python3"
  },
  "language_info": {
   "codemirror_mode": {
    "name": "ipython",
    "version": 3
   },
   "file_extension": ".py",
   "mimetype": "text/x-python",
   "name": "python",
   "nbconvert_exporter": "python",
   "pygments_lexer": "ipython3",
   "version": "3.6.4"
  }
 },
 "nbformat": 4,
 "nbformat_minor": 2
}
